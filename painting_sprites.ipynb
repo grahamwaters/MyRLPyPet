{
 "cells": [
  {
   "cell_type": "code",
   "execution_count": 4,
   "metadata": {},
   "outputs": [
    {
     "ename": "IndexError",
     "evalue": "image index out of range",
     "output_type": "error",
     "traceback": [
      "\u001b[0;31m---------------------------------------------------------------------------\u001b[0m",
      "\u001b[0;31mIndexError\u001b[0m                                Traceback (most recent call last)",
      "Cell \u001b[0;32mIn[4], line 37\u001b[0m\n\u001b[1;32m     35\u001b[0m image\u001b[38;5;241m.\u001b[39mputpixel((\u001b[38;5;241m2\u001b[39m, \u001b[38;5;241m48\u001b[39m), brown) \u001b[38;5;66;03m# head\u001b[39;00m\n\u001b[1;32m     36\u001b[0m image\u001b[38;5;241m.\u001b[39mputpixel((\u001b[38;5;241m1\u001b[39m, \u001b[38;5;241m49\u001b[39m), brown) \u001b[38;5;66;03m# head\u001b[39;00m\n\u001b[0;32m---> 37\u001b[0m \u001b[43mimage\u001b[49m\u001b[38;5;241;43m.\u001b[39;49m\u001b[43mputpixel\u001b[49m\u001b[43m(\u001b[49m\u001b[43m(\u001b[49m\u001b[38;5;241;43m0\u001b[39;49m\u001b[43m,\u001b[49m\u001b[43m \u001b[49m\u001b[38;5;241;43m50\u001b[39;49m\u001b[43m)\u001b[49m\u001b[43m,\u001b[49m\u001b[43m \u001b[49m\u001b[43mbrown\u001b[49m\u001b[43m)\u001b[49m \u001b[38;5;66;03m# head\u001b[39;00m\n\u001b[1;32m     38\u001b[0m image\u001b[38;5;241m.\u001b[39mputpixel((\u001b[38;5;241m1\u001b[39m, \u001b[38;5;241m51\u001b[39m), brown) \u001b[38;5;66;03m# head\u001b[39;00m\n\u001b[1;32m     39\u001b[0m image\u001b[38;5;241m.\u001b[39mputpixel((\u001b[38;5;241m2\u001b[39m, \u001b[38;5;241m52\u001b[39m), brown) \u001b[38;5;66;03m# head\u001b[39;00m\n",
      "File \u001b[0;32m/opt/anaconda3/envs/openai/lib/python3.9/site-packages/PIL/Image.py:1909\u001b[0m, in \u001b[0;36mImage.putpixel\u001b[0;34m(self, xy, value)\u001b[0m\n\u001b[1;32m   1907\u001b[0m     \u001b[39mif\u001b[39;00m \u001b[39mself\u001b[39m\u001b[39m.\u001b[39mmode \u001b[39m==\u001b[39m \u001b[39m\"\u001b[39m\u001b[39mPA\u001b[39m\u001b[39m\"\u001b[39m:\n\u001b[1;32m   1908\u001b[0m         value \u001b[39m=\u001b[39m (value, alpha)\n\u001b[0;32m-> 1909\u001b[0m \u001b[39mreturn\u001b[39;00m \u001b[39mself\u001b[39;49m\u001b[39m.\u001b[39;49mim\u001b[39m.\u001b[39;49mputpixel(xy, value)\n",
      "\u001b[0;31mIndexError\u001b[0m: image index out of range"
     ]
    }
   ],
   "source": [
    "from PIL import Image\n",
    "\n",
    "# create a new image with a white background\n",
    "image = Image.new(\"RGB\", (50, 50), (255, 255, 255))\n",
    "\n",
    "# define the colors for the Yorkie's fur and eyes\n",
    "brown = (165, 42, 42)\n",
    "black = (0, 0, 0)\n",
    "tan = (210, 180, 140)\n",
    "\n",
    "# create a dog sprite by drawing pixels on the image\n",
    "# the dog is looking at the viewer\n",
    "\n",
    "# save the image to a file\n",
    "image.save(\"yorkie.png\")"
   ]
  }
 ],
 "metadata": {
  "kernelspec": {
   "display_name": "Python 3.9.6 ('openai')",
   "language": "python",
   "name": "python3"
  },
  "language_info": {
   "codemirror_mode": {
    "name": "ipython",
    "version": 3
   },
   "file_extension": ".py",
   "mimetype": "text/x-python",
   "name": "python",
   "nbconvert_exporter": "python",
   "pygments_lexer": "ipython3",
   "version": "3.9.6"
  },
  "orig_nbformat": 4,
  "vscode": {
   "interpreter": {
    "hash": "2bb5586c3dcb926cd49c3292273283dd2b9969ddc5208fcf64781f0159941655"
   }
  }
 },
 "nbformat": 4,
 "nbformat_minor": 2
}
